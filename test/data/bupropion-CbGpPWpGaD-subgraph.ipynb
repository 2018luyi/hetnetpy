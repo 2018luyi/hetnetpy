{
 "cells": [
  {
   "cell_type": "markdown",
   "metadata": {},
   "source": [
    "# Generate a subgraph covering CbGpPWpGaD paths between bupropion and nicotine dependence"
   ]
  },
  {
   "cell_type": "code",
   "execution_count": 1,
   "metadata": {
    "collapsed": true
   },
   "outputs": [],
   "source": [
    "import hetio.readwrite\n",
    "import hetio.pathtools\n",
    "import hetio.stats"
   ]
  },
  {
   "cell_type": "code",
   "execution_count": 2,
   "metadata": {
    "collapsed": true
   },
   "outputs": [],
   "source": [
    "# Read Hetionet v1.0\n",
    "url = 'https://github.com/dhimmel/hetionet/raw/{}/{}'.format(\n",
    "    '00bf0b6f8886821d91cfdf00eadad145a7a1b6da',\n",
    "    'hetnet/json/hetionet-v1.0.json.bz2',\n",
    ")\n",
    "graph = hetio.readwrite.read_graph(url)\n",
    "metagraph = graph.metagraph"
   ]
  },
  {
   "cell_type": "code",
   "execution_count": 3,
   "metadata": {
    "collapsed": true
   },
   "outputs": [],
   "source": [
    "# Specify compound and disease\n",
    "compound_id = 'Compound', 'DB01156'  # Bupropion\n",
    "disease_id = 'Disease', 'DOID:0050742'  # nicotine dependences\n",
    "metapath = metagraph.metapath_from_abbrev('CbGpPWpGaD')"
   ]
  },
  {
   "cell_type": "code",
   "execution_count": 4,
   "metadata": {
    "collapsed": true
   },
   "outputs": [],
   "source": [
    "# Extract walks from compound to disease\n",
    "paths = hetio.pathtools.paths_between(\n",
    "    graph, \n",
    "    source=graph.node_dict[compound_id],\n",
    "    target=graph.node_dict[disease_id],\n",
    "    metapath=metapath,\n",
    "    duplicates=True,\n",
    ")"
   ]
  },
  {
   "cell_type": "code",
   "execution_count": 5,
   "metadata": {
    "collapsed": true
   },
   "outputs": [],
   "source": [
    "metaedges = set(metapath)\n",
    "nodes = set()\n",
    "for path in paths:\n",
    "    nodes.update(path.get_nodes())\n",
    "    for edge in path:\n",
    "        # Add incidental nodes along paths to enable correct DWWC/DWPC computations\n",
    "        # for the CbGpPWpGaD metapath\n",
    "        nodes.update(e.target for e in edge.source.get_edges(edge.metaedge))\n",
    "        nodes.update(e.target for e in edge.target.get_edges(edge.metaedge.inverse))\n",
    "\n",
    "# Add Gene-interacts-Gene metaedge (not essential but may be useful)\n",
    "metaedges.add(metagraph.metapath_from_abbrev('GiG')[0])\n",
    "\n",
    "# Get subgraph\n",
    "subgraph = graph.get_subgraph(metaedges=metaedges, nodes=nodes)"
   ]
  },
  {
   "cell_type": "code",
   "execution_count": 6,
   "metadata": {},
   "outputs": [
    {
     "data": {
      "text/plain": [
       "(4, 4)"
      ]
     },
     "execution_count": 6,
     "metadata": {},
     "output_type": "execute_result"
    }
   ],
   "source": [
    "# Metagraph size\n",
    "subgraph.metagraph.n_nodes, subgraph.metagraph.n_edges"
   ]
  },
  {
   "cell_type": "code",
   "execution_count": 7,
   "metadata": {},
   "outputs": [
    {
     "data": {
      "text/plain": [
       "(3060, 18474)"
      ]
     },
     "execution_count": 7,
     "metadata": {},
     "output_type": "execute_result"
    }
   ],
   "source": [
    "# Graph size\n",
    "subgraph.n_nodes, subgraph.n_edges"
   ]
  },
  {
   "cell_type": "code",
   "execution_count": 8,
   "metadata": {},
   "outputs": [
    {
     "data": {
      "text/html": [
       "<div>\n",
       "<style>\n",
       "    .dataframe thead tr:only-child th {\n",
       "        text-align: right;\n",
       "    }\n",
       "\n",
       "    .dataframe thead th {\n",
       "        text-align: left;\n",
       "    }\n",
       "\n",
       "    .dataframe tbody tr th {\n",
       "        vertical-align: top;\n",
       "    }\n",
       "</style>\n",
       "<table border=\"1\" class=\"dataframe\">\n",
       "  <thead>\n",
       "    <tr style=\"text-align: right;\">\n",
       "      <th></th>\n",
       "      <th>metanode</th>\n",
       "      <th>abbreviation</th>\n",
       "      <th>metaedges</th>\n",
       "      <th>nodes</th>\n",
       "      <th>unconnected_nodes</th>\n",
       "    </tr>\n",
       "  </thead>\n",
       "  <tbody>\n",
       "    <tr>\n",
       "      <th>0</th>\n",
       "      <td>Compound</td>\n",
       "      <td>C</td>\n",
       "      <td>1</td>\n",
       "      <td>730</td>\n",
       "      <td>730</td>\n",
       "    </tr>\n",
       "    <tr>\n",
       "      <th>3</th>\n",
       "      <td>Disease</td>\n",
       "      <td>D</td>\n",
       "      <td>1</td>\n",
       "      <td>16</td>\n",
       "      <td>16</td>\n",
       "    </tr>\n",
       "    <tr>\n",
       "      <th>1</th>\n",
       "      <td>Gene</td>\n",
       "      <td>G</td>\n",
       "      <td>4</td>\n",
       "      <td>2226</td>\n",
       "      <td>612</td>\n",
       "    </tr>\n",
       "    <tr>\n",
       "      <th>2</th>\n",
       "      <td>Pathway</td>\n",
       "      <td>PW</td>\n",
       "      <td>1</td>\n",
       "      <td>88</td>\n",
       "      <td>0</td>\n",
       "    </tr>\n",
       "  </tbody>\n",
       "</table>\n",
       "</div>"
      ],
      "text/plain": [
       "   metanode abbreviation  metaedges  nodes  unconnected_nodes\n",
       "0  Compound            C          1    730                730\n",
       "3   Disease            D          1     16                 16\n",
       "1      Gene            G          4   2226                612\n",
       "2   Pathway           PW          1     88                  0"
      ]
     },
     "execution_count": 8,
     "metadata": {},
     "output_type": "execute_result"
    }
   ],
   "source": [
    "# Metanode info\n",
    "hetio.stats.get_metanode_df(subgraph)"
   ]
  },
  {
   "cell_type": "code",
   "execution_count": 9,
   "metadata": {},
   "outputs": [
    {
     "data": {
      "text/html": [
       "<div>\n",
       "<style>\n",
       "    .dataframe thead tr:only-child th {\n",
       "        text-align: right;\n",
       "    }\n",
       "\n",
       "    .dataframe thead th {\n",
       "        text-align: left;\n",
       "    }\n",
       "\n",
       "    .dataframe tbody tr th {\n",
       "        vertical-align: top;\n",
       "    }\n",
       "</style>\n",
       "<table border=\"1\" class=\"dataframe\">\n",
       "  <thead>\n",
       "    <tr style=\"text-align: right;\">\n",
       "      <th></th>\n",
       "      <th>metaedge</th>\n",
       "      <th>abbreviation</th>\n",
       "      <th>edges</th>\n",
       "      <th>source_nodes</th>\n",
       "      <th>target_nodes</th>\n",
       "    </tr>\n",
       "  </thead>\n",
       "  <tbody>\n",
       "    <tr>\n",
       "      <th>0</th>\n",
       "      <td>Compound - binds - Gene</td>\n",
       "      <td>CbG</td>\n",
       "      <td>5634</td>\n",
       "      <td>730</td>\n",
       "      <td>472</td>\n",
       "    </tr>\n",
       "    <tr>\n",
       "      <th>1</th>\n",
       "      <td>Disease - associates - Gene</td>\n",
       "      <td>DaG</td>\n",
       "      <td>937</td>\n",
       "      <td>16</td>\n",
       "      <td>557</td>\n",
       "    </tr>\n",
       "    <tr>\n",
       "      <th>2</th>\n",
       "      <td>Gene - interacts - Gene</td>\n",
       "      <td>GiG</td>\n",
       "      <td>5124</td>\n",
       "      <td>1061</td>\n",
       "      <td>1213</td>\n",
       "    </tr>\n",
       "    <tr>\n",
       "      <th>3</th>\n",
       "      <td>Gene - participates - Pathway</td>\n",
       "      <td>GpPW</td>\n",
       "      <td>6779</td>\n",
       "      <td>2222</td>\n",
       "      <td>88</td>\n",
       "    </tr>\n",
       "  </tbody>\n",
       "</table>\n",
       "</div>"
      ],
      "text/plain": [
       "                        metaedge abbreviation  edges  source_nodes  \\\n",
       "0        Compound - binds - Gene          CbG   5634           730   \n",
       "1    Disease - associates - Gene          DaG    937            16   \n",
       "2        Gene - interacts - Gene          GiG   5124          1061   \n",
       "3  Gene - participates - Pathway         GpPW   6779          2222   \n",
       "\n",
       "   target_nodes  \n",
       "0           472  \n",
       "1           557  \n",
       "2          1213  \n",
       "3            88  "
      ]
     },
     "execution_count": 9,
     "metadata": {},
     "output_type": "execute_result"
    }
   ],
   "source": [
    "# Metaedge info\n",
    "hetio.stats.get_metaedge_df(subgraph)"
   ]
  },
  {
   "cell_type": "code",
   "execution_count": 10,
   "metadata": {
    "collapsed": true
   },
   "outputs": [],
   "source": [
    "# Export as JSON\n",
    "hetio.readwrite.write_graph(subgraph, 'bupropion-CbGpPWpGaD-subgraph.json.xz')"
   ]
  }
 ],
 "metadata": {
  "kernelspec": {
   "display_name": "Python [default]",
   "language": "python",
   "name": "python3"
  },
  "language_info": {
   "codemirror_mode": {
    "name": "ipython",
    "version": 3
   },
   "file_extension": ".py",
   "mimetype": "text/x-python",
   "name": "python",
   "nbconvert_exporter": "python",
   "pygments_lexer": "ipython3",
   "version": "3.6.0"
  }
 },
 "nbformat": 4,
 "nbformat_minor": 2
}
